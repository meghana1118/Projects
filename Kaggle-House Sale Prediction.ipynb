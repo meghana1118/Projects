{
 "cells": [
  {
   "cell_type": "markdown",
   "metadata": {},
   "source": [
    "# Import Libraries"
   ]
  },
  {
   "cell_type": "code",
   "execution_count": 1,
   "metadata": {},
   "outputs": [],
   "source": [
    "import pandas as pd\n",
    "import pandas_profiling as pp\n",
    "import numpy as np\n",
    "import matplotlib.pyplot as plt\n",
    "import seaborn as sns\n",
    "\n",
    "from scipy import stats\n",
    "from scipy.stats import skew\n",
    "from scipy.stats import norm\n",
    "\n",
    "from sklearn.model_selection import train_test_split\n",
    "from sklearn.preprocessing import StandardScaler\n",
    "from sklearn.linear_model import LinearRegression\n",
    "from sklearn.metrics import mean_squared_error, make_scorer\n"
   ]
  },
  {
   "cell_type": "markdown",
   "metadata": {},
   "source": [
    "# Read the csv file"
   ]
  },
  {
   "cell_type": "code",
   "execution_count": 2,
   "metadata": {},
   "outputs": [],
   "source": [
    "path=r'C:\\Users\\megha\\Documents\\Projects\\House Price prediction\\train.csv'\n",
    "train=pd.read_csv(path,index_col='Id')\n",
    "train.columns\n",
    "y=train['SalePrice']"
   ]
  },
  {
   "cell_type": "code",
   "execution_count": 3,
   "metadata": {},
   "outputs": [
    {
     "data": {
      "text/plain": [
       "Id\n",
       "1       208500\n",
       "2       181500\n",
       "3       223500\n",
       "4       140000\n",
       "5       250000\n",
       "6       143000\n",
       "7       307000\n",
       "8       200000\n",
       "9       129900\n",
       "10      118000\n",
       "11      129500\n",
       "12      345000\n",
       "13      144000\n",
       "14      279500\n",
       "15      157000\n",
       "16      132000\n",
       "17      149000\n",
       "18       90000\n",
       "19      159000\n",
       "20      139000\n",
       "21      325300\n",
       "22      139400\n",
       "23      230000\n",
       "24      129900\n",
       "25      154000\n",
       "26      256300\n",
       "27      134800\n",
       "28      306000\n",
       "29      207500\n",
       "30       68500\n",
       "         ...  \n",
       "1431    192140\n",
       "1432    143750\n",
       "1433     64500\n",
       "1434    186500\n",
       "1435    160000\n",
       "1436    174000\n",
       "1437    120500\n",
       "1438    394617\n",
       "1439    149700\n",
       "1440    197000\n",
       "1441    191000\n",
       "1442    149300\n",
       "1443    310000\n",
       "1444    121000\n",
       "1445    179600\n",
       "1446    129000\n",
       "1447    157900\n",
       "1448    240000\n",
       "1449    112000\n",
       "1450     92000\n",
       "1451    136000\n",
       "1452    287090\n",
       "1453    145000\n",
       "1454     84500\n",
       "1455    185000\n",
       "1456    175000\n",
       "1457    210000\n",
       "1458    266500\n",
       "1459    142125\n",
       "1460    147500\n",
       "Name: SalePrice, Length: 1460, dtype: int64"
      ]
     },
     "execution_count": 3,
     "metadata": {},
     "output_type": "execute_result"
    }
   ],
   "source": [
    "y"
   ]
  },
  {
   "cell_type": "code",
   "execution_count": 4,
   "metadata": {},
   "outputs": [
    {
     "name": "stdout",
     "output_type": "stream",
     "text": [
      "(1460, 80) (1460,)\n"
     ]
    }
   ],
   "source": [
    "print(train.shape,y.shape)"
   ]
  },
  {
   "cell_type": "markdown",
   "metadata": {},
   "source": [
    "# Exploring SalePrice"
   ]
  },
  {
   "cell_type": "code",
   "execution_count": 5,
   "metadata": {},
   "outputs": [],
   "source": [
    "#descriptive statistics\n",
    "#y.describe() #there are no 0 minimum price, data is valid."
   ]
  },
  {
   "cell_type": "code",
   "execution_count": 6,
   "metadata": {},
   "outputs": [],
   "source": [
    " #histogram (distribution plot) and normal probability plot\n",
    "#sns.distplot(y, fit=norm);\n",
    "#fig = plt.figure()\n",
    "#res = stats.probplot(y, plot=plt)"
   ]
  },
  {
   "cell_type": "code",
   "execution_count": 7,
   "metadata": {},
   "outputs": [],
   "source": [
    "# Log transform the target \n",
    "y = np.log1p(y)"
   ]
  },
  {
   "cell_type": "code",
   "execution_count": 8,
   "metadata": {},
   "outputs": [
    {
     "data": {
      "text/plain": [
       "Id\n",
       "1       12.247699\n",
       "2       12.109016\n",
       "3       12.317171\n",
       "4       11.849405\n",
       "5       12.429220\n",
       "6       11.870607\n",
       "7       12.634606\n",
       "8       12.206078\n",
       "9       11.774528\n",
       "10      11.678448\n",
       "11      11.771444\n",
       "12      12.751303\n",
       "13      11.877576\n",
       "14      12.540761\n",
       "15      11.964007\n",
       "16      11.790565\n",
       "17      11.911708\n",
       "18      11.407576\n",
       "19      11.976666\n",
       "20      11.842236\n",
       "21      12.692506\n",
       "22      11.845110\n",
       "23      12.345839\n",
       "24      11.774528\n",
       "25      11.944714\n",
       "26      12.454108\n",
       "27      11.811555\n",
       "28      12.631344\n",
       "29      12.242891\n",
       "30      11.134604\n",
       "          ...    \n",
       "1431    12.165985\n",
       "1432    11.875838\n",
       "1433    11.074436\n",
       "1434    12.136192\n",
       "1435    11.982935\n",
       "1436    12.066816\n",
       "1437    11.699413\n",
       "1438    12.885673\n",
       "1439    11.916395\n",
       "1440    12.190964\n",
       "1441    12.160034\n",
       "1442    11.913720\n",
       "1443    12.644331\n",
       "1444    11.703554\n",
       "1445    12.098493\n",
       "1446    11.767575\n",
       "1447    11.969724\n",
       "1448    12.388398\n",
       "1449    11.626263\n",
       "1450    11.429555\n",
       "1451    11.820418\n",
       "1452    12.567555\n",
       "1453    11.884496\n",
       "1454    11.344519\n",
       "1455    12.128117\n",
       "1456    12.072547\n",
       "1457    12.254868\n",
       "1458    12.493133\n",
       "1459    11.864469\n",
       "1460    11.901590\n",
       "Name: SalePrice, Length: 1460, dtype: float64"
      ]
     },
     "execution_count": 8,
     "metadata": {},
     "output_type": "execute_result"
    }
   ],
   "source": [
    "y"
   ]
  },
  {
   "cell_type": "code",
   "execution_count": 9,
   "metadata": {},
   "outputs": [
    {
     "data": {
      "image/png": "[encoded data removed]",
      "text/plain": [
       "<Figure size 432x288 with 1 Axes>"
      ]
     },
     "metadata": {
      "needs_background": "light"
     },
     "output_type": "display_data"
    },
    {
     "data": {
      "image/png": "[encoded data removed]",
      "text/plain": [
       "<Figure size 432x288 with 1 Axes>"
      ]
     },
     "metadata": {
      "needs_background": "light"
     },
     "output_type": "display_data"
    }
   ],
   "source": [
    "sns.distplot(y, fit=norm);\n",
    "fig = plt.figure()\n",
    "res = stats.probplot(y, plot=plt)\n",
    "#plot after log transform"
   ]
  },
  {
   "cell_type": "markdown",
   "metadata": {},
   "source": [
    "# Data cleaning : Removing outliers as per paper"
   ]
  },
  {
   "cell_type": "code",
   "execution_count": 10,
   "metadata": {},
   "outputs": [
    {
     "data": {
      "text/plain": [
       "<matplotlib.axes._subplots.AxesSubplot at 0x2cbe92be978>"
      ]
     },
     "execution_count": 10,
     "metadata": {},
     "output_type": "execute_result"
    },
    {
     "data": {
      "image/png": "[encoded data removed]",
      "text/plain": [
       "<Figure size 432x288 with 1 Axes>"
      ]
     },
     "metadata": {
      "needs_background": "light"
     },
     "output_type": "display_data"
    }
   ],
   "source": [
    "#Following the paper to mark outliers\n",
    "sns.scatterplot(x='GrLivArea',y='SalePrice',data=train) "
   ]
  },
  {
   "cell_type": "code",
   "execution_count": 11,
   "metadata": {},
   "outputs": [
    {
     "data": {
      "text/html": [
       "<div>\n",
       "<style scoped>\n",
       "    .dataframe tbody tr th:only-of-type {\n",
       "        vertical-align: middle;\n",
       "    }\n",
       "\n",
       "    .dataframe tbody tr th {\n",
       "        vertical-align: top;\n",
       "    }\n",
       "\n",
       "    .dataframe thead th {\n",
       "        text-align: right;\n",
       "    }\n",
       "</style>\n",
       "<table border=\"1\" class=\"dataframe\">\n",
       "  <thead>\n",
       "    <tr style=\"text-align: right;\">\n",
       "      <th></th>\n",
       "      <th>MSSubClass</th>\n",
       "      <th>MSZoning</th>\n",
       "      <th>LotFrontage</th>\n",
       "      <th>LotArea</th>\n",
       "      <th>Street</th>\n",
       "      <th>Alley</th>\n",
       "      <th>LotShape</th>\n",
       "      <th>LandContour</th>\n",
       "      <th>Utilities</th>\n",
       "      <th>LotConfig</th>\n",
       "      <th>...</th>\n",
       "      <th>PoolArea</th>\n",
       "      <th>PoolQC</th>\n",
       "      <th>Fence</th>\n",
       "      <th>MiscFeature</th>\n",
       "      <th>MiscVal</th>\n",
       "      <th>MoSold</th>\n",
       "      <th>YrSold</th>\n",
       "      <th>SaleType</th>\n",
       "      <th>SaleCondition</th>\n",
       "      <th>SalePrice</th>\n",
       "    </tr>\n",
       "    <tr>\n",
       "      <th>Id</th>\n",
       "      <th></th>\n",
       "      <th></th>\n",
       "      <th></th>\n",
       "      <th></th>\n",
       "      <th></th>\n",
       "      <th></th>\n",
       "      <th></th>\n",
       "      <th></th>\n",
       "      <th></th>\n",
       "      <th></th>\n",
       "      <th></th>\n",
       "      <th></th>\n",
       "      <th></th>\n",
       "      <th></th>\n",
       "      <th></th>\n",
       "      <th></th>\n",
       "      <th></th>\n",
       "      <th></th>\n",
       "      <th></th>\n",
       "      <th></th>\n",
       "      <th></th>\n",
       "    </tr>\n",
       "  </thead>\n",
       "  <tbody>\n",
       "    <tr>\n",
       "      <th>524</th>\n",
       "      <td>60</td>\n",
       "      <td>RL</td>\n",
       "      <td>130.0</td>\n",
       "      <td>40094</td>\n",
       "      <td>Pave</td>\n",
       "      <td>NaN</td>\n",
       "      <td>IR1</td>\n",
       "      <td>Bnk</td>\n",
       "      <td>AllPub</td>\n",
       "      <td>Inside</td>\n",
       "      <td>...</td>\n",
       "      <td>0</td>\n",
       "      <td>NaN</td>\n",
       "      <td>NaN</td>\n",
       "      <td>NaN</td>\n",
       "      <td>0</td>\n",
       "      <td>10</td>\n",
       "      <td>2007</td>\n",
       "      <td>New</td>\n",
       "      <td>Partial</td>\n",
       "      <td>184750</td>\n",
       "    </tr>\n",
       "    <tr>\n",
       "      <th>1299</th>\n",
       "      <td>60</td>\n",
       "      <td>RL</td>\n",
       "      <td>313.0</td>\n",
       "      <td>63887</td>\n",
       "      <td>Pave</td>\n",
       "      <td>NaN</td>\n",
       "      <td>IR3</td>\n",
       "      <td>Bnk</td>\n",
       "      <td>AllPub</td>\n",
       "      <td>Corner</td>\n",
       "      <td>...</td>\n",
       "      <td>480</td>\n",
       "      <td>Gd</td>\n",
       "      <td>NaN</td>\n",
       "      <td>NaN</td>\n",
       "      <td>0</td>\n",
       "      <td>1</td>\n",
       "      <td>2008</td>\n",
       "      <td>New</td>\n",
       "      <td>Partial</td>\n",
       "      <td>160000</td>\n",
       "    </tr>\n",
       "  </tbody>\n",
       "</table>\n",
       "<p>2 rows × 80 columns</p>\n",
       "</div>"
      ],
      "text/plain": [
       "      MSSubClass MSZoning  LotFrontage  LotArea Street Alley LotShape  \\\n",
       "Id                                                                      \n",
       "524           60       RL        130.0    40094   Pave   NaN      IR1   \n",
       "1299          60       RL        313.0    63887   Pave   NaN      IR3   \n",
       "\n",
       "     LandContour Utilities LotConfig  ... PoolArea PoolQC Fence MiscFeature  \\\n",
       "Id                                    ...                                     \n",
       "524          Bnk    AllPub    Inside  ...        0    NaN   NaN         NaN   \n",
       "1299         Bnk    AllPub    Corner  ...      480     Gd   NaN         NaN   \n",
       "\n",
       "     MiscVal MoSold  YrSold  SaleType  SaleCondition  SalePrice  \n",
       "Id                                                               \n",
       "524        0     10    2007       New        Partial     184750  \n",
       "1299       0      1    2008       New        Partial     160000  \n",
       "\n",
       "[2 rows x 80 columns]"
      ]
     },
     "execution_count": 11,
     "metadata": {},
     "output_type": "execute_result"
    }
   ],
   "source": [
    "train.loc[(train['SalePrice']< 200000) & (train['GrLivArea']>4000) ] #view the 2 extreme outliers"
   ]
  },
  {
   "cell_type": "code",
   "execution_count": 12,
   "metadata": {},
   "outputs": [],
   "source": [
    "train=train.drop([524,1299]) #remove the 2 extreme data points"
   ]
  },
  {
   "cell_type": "code",
   "execution_count": 13,
   "metadata": {},
   "outputs": [
    {
     "data": {
      "text/plain": [
       "<matplotlib.axes._subplots.AxesSubplot at 0x2cbe93157b8>"
      ]
     },
     "execution_count": 13,
     "metadata": {},
     "output_type": "execute_result"
    },
    {
     "data": {
      "image/png": "[encoded data removed]",
      "text/plain": [
       "<Figure size 432x288 with 1 Axes>"
      ]
     },
     "metadata": {
      "needs_background": "light"
     },
     "output_type": "display_data"
    }
   ],
   "source": [
    "sns.scatterplot(x='GrLivArea',y='SalePrice',data=train) #the new data"
   ]
  },
  {
   "cell_type": "code",
   "execution_count": 14,
   "metadata": {},
   "outputs": [],
   "source": [
    "y=np.log1p(train['SalePrice'])\n",
    "#adding test data to remove features effectively in both train and test data\n",
    "path_test=r'C:\\Users\\megha\\Documents\\Projects\\House Price prediction\\test.csv'\n",
    "test_data=pd.read_csv(path_test,index_col='Id')\n",
    "train_data=train.drop('SalePrice',axis=1)\n",
    "\n",
    "data=pd.concat([train_data,test_data],sort=False)\n",
    "data.columns\n",
    "\n",
    "#shape of data, to effectively spilt after feture engineering\n",
    "mtrain = train.shape[0]\n",
    "mtest = test_data.shape[0]"
   ]
  },
  {
   "cell_type": "code",
   "execution_count": 15,
   "metadata": {},
   "outputs": [
    {
     "data": {
      "text/plain": [
       "(2917, 79)"
      ]
     },
     "execution_count": 15,
     "metadata": {},
     "output_type": "execute_result"
    }
   ],
   "source": [
    "data.shape#checking the dimensions of the data"
   ]
  },
  {
   "cell_type": "markdown",
   "metadata": {},
   "source": [
    "# Data Cleaning: Filling missing values, new features and dropping features"
   ]
  },
  {
   "cell_type": "code",
   "execution_count": 16,
   "metadata": {},
   "outputs": [],
   "source": [
    "# Handle missing values for features where median/mean or most common value doesn't make sense\n",
    "\n",
    "# Alley : data description says NA means \"no alley access\"\n",
    "data.loc[:, \"Alley\"] = data.loc[:, \"Alley\"].fillna(\"None\")\n",
    "# BedroomAbvGr : NA most likely means 0\n",
    "data.loc[:, \"BedroomAbvGr\"] = data.loc[:, \"BedroomAbvGr\"].fillna(0)\n",
    "# BsmtQual etc : data description says NA for basement features is \"no basement\"\n",
    "data.loc[:, \"BsmtQual\"] = data.loc[:, \"BsmtQual\"].fillna(\"No\")\n",
    "data.loc[:, \"BsmtCond\"] = data.loc[:, \"BsmtCond\"].fillna(\"No\")\n",
    "data.loc[:, \"BsmtExposure\"] = data.loc[:, \"BsmtExposure\"].fillna(\"No\")\n",
    "data.loc[:, \"BsmtFinType1\"] = data.loc[:, \"BsmtFinType1\"].fillna(\"No\")\n",
    "data.loc[:, \"BsmtFinType2\"] = data.loc[:, \"BsmtFinType2\"].fillna(\"No\")\n",
    "data.loc[:, \"BsmtFullBath\"] = data.loc[:, \"BsmtFullBath\"].fillna(0)\n",
    "data.loc[:, \"BsmtHalfBath\"] = data.loc[:, \"BsmtHalfBath\"].fillna(0)\n",
    "data.loc[:, \"BsmtUnfSF\"] = data.loc[:, \"BsmtUnfSF\"].fillna(0)\n",
    "# CentralAir : NA most likely means No\n",
    "data.loc[:, \"CentralAir\"] = data.loc[:, \"CentralAir\"].fillna(\"N\")\n",
    "# Condition : NA most likely means Normal\n",
    "data.loc[:, \"Condition1\"] = data.loc[:, \"Condition1\"].fillna(\"Norm\")\n",
    "data.loc[:, \"Condition2\"] = data.loc[:, \"Condition2\"].fillna(\"Norm\")\n",
    "# EnclosedPorch : NA most likely means no enclosed porch\n",
    "data.loc[:, \"EnclosedPorch\"] = data.loc[:, \"EnclosedPorch\"].fillna(0)\n",
    "# External stuff : NA most likely means average\n",
    "data.loc[:, \"ExterCond\"] = data.loc[:, \"ExterCond\"].fillna(\"TA\")\n",
    "data.loc[:, \"ExterQual\"] = data.loc[:, \"ExterQual\"].fillna(\"TA\")\n",
    "# Fence : data description says NA means \"no fence\"\n",
    "data.loc[:, \"Fence\"] = data.loc[:, \"Fence\"].fillna(\"No\")\n",
    "# FireplaceQu : data description says NA means \"no fireplace\"\n",
    "data.loc[:, \"FireplaceQu\"] = data.loc[:, \"FireplaceQu\"].fillna(\"No\")\n",
    "data.loc[:, \"Fireplaces\"] = data.loc[:, \"Fireplaces\"].fillna(0)\n",
    "# Functional : data description says NA means typical\n",
    "data.loc[:, \"Functional\"] = data.loc[:, \"Functional\"].fillna(\"Typ\")\n",
    "# GarageType etc : data description says NA for garage features is \"no garage\"\n",
    "data.loc[:, \"GarageType\"] = data.loc[:, \"GarageType\"].fillna(\"No\")\n",
    "data.loc[:, \"GarageFinish\"] = data.loc[:, \"GarageFinish\"].fillna(\"No\")\n",
    "data.loc[:, \"GarageQual\"] = data.loc[:, \"GarageQual\"].fillna(\"No\")\n",
    "data.loc[:, \"GarageCond\"] = data.loc[:, \"GarageCond\"].fillna(\"No\")\n",
    "data.loc[:, \"GarageArea\"] = data.loc[:, \"GarageArea\"].fillna(0)\n",
    "data.loc[:, \"GarageCars\"] = data.loc[:, \"GarageCars\"].fillna(0)\n",
    "# HalfBath : NA most likely means no half baths above grade\n",
    "data.loc[:, \"HalfBath\"] = data.loc[:, \"HalfBath\"].fillna(0)\n",
    "# HeatingQC : NA most likely means typical\n",
    "data.loc[:, \"HeatingQC\"] = data.loc[:, \"HeatingQC\"].fillna(\"TA\")\n",
    "# KitchenAbvGr : NA most likely means 0\n",
    "data.loc[:, \"KitchenAbvGr\"] = data.loc[:, \"KitchenAbvGr\"].fillna(0)\n",
    "# KitchenQual : NA most likely means typical\n",
    "data.loc[:, \"KitchenQual\"] = data.loc[:, \"KitchenQual\"].fillna(\"TA\")\n",
    "# LotFrontage : NA most likely means no lot frontage\n",
    "data.loc[:, \"LotFrontage\"] = data.loc[:, \"LotFrontage\"].fillna(0)\n",
    "# LotShape : NA most likely means regular\n",
    "data.loc[:, \"LotShape\"] = data.loc[:, \"LotShape\"].fillna(\"Reg\")\n",
    "# MasVnrType : NA most likely means no veneer\n",
    "data.loc[:, \"MasVnrType\"] = data.loc[:, \"MasVnrType\"].fillna(\"None\")\n",
    "data.loc[:, \"MasVnrArea\"] = data.loc[:, \"MasVnrArea\"].fillna(0)\n",
    "# MiscFeature : data description says NA means \"no misc feature\"\n",
    "data.loc[:, \"MiscFeature\"] = data.loc[:, \"MiscFeature\"].fillna(\"No\")\n",
    "data.loc[:, \"MiscVal\"] = data.loc[:, \"MiscVal\"].fillna(0)\n",
    "# OpenPorchSF : NA most likely means no open porch\n",
    "data.loc[:, \"OpenPorchSF\"] = data.loc[:, \"OpenPorchSF\"].fillna(0)\n",
    "# PavedDrive : NA most likely means not paved\n",
    "data.loc[:, \"PavedDrive\"] = data.loc[:, \"PavedDrive\"].fillna(\"N\")\n",
    "# PoolQC : data description says NA means \"no pool\"\n",
    "data.loc[:, \"PoolQC\"] = data.loc[:, \"PoolQC\"].fillna(\"No\")\n",
    "data.loc[:, \"PoolArea\"] = data.loc[:, \"PoolArea\"].fillna(0)\n",
    "# SaleCondition : NA most likely means normal sale\n",
    "data.loc[:, \"SaleCondition\"] = data.loc[:, \"SaleCondition\"].fillna(\"Normal\")\n",
    "# ScreenPorch : NA most likely means no screen porch\n",
    "data.loc[:, \"ScreenPorch\"] = data.loc[:, \"ScreenPorch\"].fillna(0)\n",
    "# TotRmsAbvGrd : NA most likely means 0\n",
    "data.loc[:, \"TotRmsAbvGrd\"] = data.loc[:, \"TotRmsAbvGrd\"].fillna(0)\n",
    "# Utilities : NA most likely means all public utilities\n",
    "data.loc[:, \"Utilities\"] = data.loc[:, \"Utilities\"].fillna(\"AllPub\")\n",
    "# WoodDeckSF : NA most likely means no wood deck\n",
    "data.loc[:, \"WoodDeckSF\"] = data.loc[:, \"WoodDeckSF\"].fillna(0)"
   ]
  },
  {
   "cell_type": "code",
   "execution_count": 17,
   "metadata": {},
   "outputs": [],
   "source": [
    "# Some numerical features are actually really categories\n",
    "data = data.replace({\"MSSubClass\" : {20 : \"SC20\", 30 : \"SC30\", 40 : \"SC40\", 45 : \"SC45\", \n",
    "                                       50 : \"SC50\", 60 : \"SC60\", 70 : \"SC70\", 75 : \"SC75\", \n",
    "                                       80 : \"SC80\", 85 : \"SC85\", 90 : \"SC90\", 120 : \"SC120\", \n",
    "                                       150 : \"SC150\", 160 : \"SC160\", 180 : \"SC180\", 190 : \"SC190\"},\n",
    "                       \"MoSold\" : {1 : \"Jan\", 2 : \"Feb\", 3 : \"Mar\", 4 : \"Apr\", 5 : \"May\", 6 : \"Jun\",\n",
    "                                   7 : \"Jul\", 8 : \"Aug\", 9 : \"Sep\", 10 : \"Oct\", 11 : \"Nov\", 12 : \"Dec\"}\n",
    "                      })"
   ]
  },
  {
   "cell_type": "code",
   "execution_count": 18,
   "metadata": {},
   "outputs": [],
   "source": [
    "# Encode some categorical features as ordered numbers when there is information in the order\n",
    "data = data.replace({\"Alley\" : {\"Grvl\" : 1, \"Pave\" : 2},\n",
    "                       \"BsmtCond\" : {\"No\" : 0, \"Po\" : 1, \"Fa\" : 2, \"TA\" : 3, \"Gd\" : 4, \"Ex\" : 5},\n",
    "                       \"BsmtExposure\" : {\"No\" : 0, \"Mn\" : 1, \"Av\": 2, \"Gd\" : 3},\n",
    "                       \"BsmtFinType1\" : {\"No\" : 0, \"Unf\" : 1, \"LwQ\": 2, \"Rec\" : 3, \"BLQ\" : 4, \n",
    "                                         \"ALQ\" : 5, \"GLQ\" : 6},\n",
    "                       \"BsmtFinType2\" : {\"No\" : 0, \"Unf\" : 1, \"LwQ\": 2, \"Rec\" : 3, \"BLQ\" : 4, \n",
    "                                         \"ALQ\" : 5, \"GLQ\" : 6},\n",
    "                       \"BsmtQual\" : {\"No\" : 0, \"Po\" : 1, \"Fa\" : 2, \"TA\": 3, \"Gd\" : 4, \"Ex\" : 5},\n",
    "                       \"ExterCond\" : {\"Po\" : 1, \"Fa\" : 2, \"TA\": 3, \"Gd\": 4, \"Ex\" : 5},\n",
    "                       \"ExterQual\" : {\"Po\" : 1, \"Fa\" : 2, \"TA\": 3, \"Gd\": 4, \"Ex\" : 5},\n",
    "                       \"FireplaceQu\" : {\"No\" : 0, \"Po\" : 1, \"Fa\" : 2, \"TA\" : 3, \"Gd\" : 4, \"Ex\" : 5},\n",
    "                       \"Functional\" : {\"Sal\" : 1, \"Sev\" : 2, \"Maj2\" : 3, \"Maj1\" : 4, \"Mod\": 5, \n",
    "                                       \"Min2\" : 6, \"Min1\" : 7, \"Typ\" : 8},\n",
    "                       \"GarageCond\" : {\"No\" : 0, \"Po\" : 1, \"Fa\" : 2, \"TA\" : 3, \"Gd\" : 4, \"Ex\" : 5},\n",
    "                       \"GarageQual\" : {\"No\" : 0, \"Po\" : 1, \"Fa\" : 2, \"TA\" : 3, \"Gd\" : 4, \"Ex\" : 5},\n",
    "                       \"HeatingQC\" : {\"Po\" : 1, \"Fa\" : 2, \"TA\" : 3, \"Gd\" : 4, \"Ex\" : 5},\n",
    "                       \"KitchenQual\" : {\"Po\" : 1, \"Fa\" : 2, \"TA\" : 3, \"Gd\" : 4, \"Ex\" : 5},\n",
    "                       \"LandSlope\" : {\"Sev\" : 1, \"Mod\" : 2, \"Gtl\" : 3},\n",
    "                       \"LotShape\" : {\"IR3\" : 1, \"IR2\" : 2, \"IR1\" : 3, \"Reg\" : 4},\n",
    "                       \"PavedDrive\" : {\"N\" : 0, \"P\" : 1, \"Y\" : 2},\n",
    "                       \"PoolQC\" : {\"No\" : 0, \"Fa\" : 1, \"TA\" : 2, \"Gd\" : 3, \"Ex\" : 4},\n",
    "                       \"Street\" : {\"Grvl\" : 1, \"Pave\" : 2},\n",
    "                       \"Utilities\" : {\"ELO\" : 1, \"NoSeWa\" : 2, \"NoSewr\" : 3, \"AllPub\" : 4}}\n",
    "                     )"
   ]
  },
  {
   "cell_type": "code",
   "execution_count": 19,
   "metadata": {},
   "outputs": [],
   "source": [
    "# Create new features\n",
    "# 1* Simplifications of existing features\n",
    "data[\"SimplOverallQual\"] = data.OverallQual.replace({1 : 1, 2 : 1, 3 : 1, # bad\n",
    "                                                       4 : 2, 5 : 2, 6 : 2, # average\n",
    "                                                       7 : 3, 8 : 3, 9 : 3, 10 : 3 # good\n",
    "                                                      })\n",
    "data[\"SimplOverallCond\"] = data.OverallCond.replace({1 : 1, 2 : 1, 3 : 1, # bad\n",
    "                                                       4 : 2, 5 : 2, 6 : 2, # average\n",
    "                                                       7 : 3, 8 : 3, 9 : 3, 10 : 3 # good\n",
    "                                                      })\n",
    "data[\"SimplPoolQC\"] = data.PoolQC.replace({1 : 1, 2 : 1, # average\n",
    "                                             3 : 2, 4 : 2 # good\n",
    "                                            })\n",
    "data[\"SimplGarageCond\"] = data.GarageCond.replace({1 : 1, # bad\n",
    "                                                     2 : 1, 3 : 1, # average\n",
    "                                                     4 : 2, 5 : 2 # good\n",
    "                                                    })\n",
    "data[\"SimplGarageQual\"] = data.GarageQual.replace({1 : 1, # bad\n",
    "                                                     2 : 1, 3 : 1, # average\n",
    "                                                     4 : 2, 5 : 2 # good\n",
    "                                                    })\n",
    "data[\"SimplFireplaceQu\"] = data.FireplaceQu.replace({1 : 1, # bad\n",
    "                                                       2 : 1, 3 : 1, # average\n",
    "                                                       4 : 2, 5 : 2 # good\n",
    "                                                      })\n",
    "data[\"SimplFireplaceQu\"] = data.FireplaceQu.replace({1 : 1, # bad\n",
    "                                                       2 : 1, 3 : 1, # average\n",
    "                                                       4 : 2, 5 : 2 # good\n",
    "                                                      })\n",
    "data[\"SimplFunctional\"] = data.Functional.replace({1 : 1, 2 : 1, # bad\n",
    "                                                     3 : 2, 4 : 2, # major\n",
    "                                                     5 : 3, 6 : 3, 7 : 3, # minor\n",
    "                                                     8 : 4 # typical\n",
    "                                                    })\n",
    "data[\"SimplKitchenQual\"] = data.KitchenQual.replace({1 : 1, # bad\n",
    "                                                       2 : 1, 3 : 1, # average\n",
    "                                                       4 : 2, 5 : 2 # good\n",
    "                                                      })\n",
    "data[\"SimplHeatingQC\"] = data.HeatingQC.replace({1 : 1, # bad\n",
    "                                                   2 : 1, 3 : 1, # average\n",
    "                                                   4 : 2, 5 : 2 # good\n",
    "                                                  })\n",
    "data[\"SimplBsmtFinType1\"] = data.BsmtFinType1.replace({1 : 1, # unfinished\n",
    "                                                         2 : 1, 3 : 1, # rec room\n",
    "                                                         4 : 2, 5 : 2, 6 : 2 # living quarters\n",
    "                                                        })\n",
    "data[\"SimplBsmtFinType2\"] = data.BsmtFinType2.replace({1 : 1, # unfinished\n",
    "                                                         2 : 1, 3 : 1, # rec room\n",
    "                                                         4 : 2, 5 : 2, 6 : 2 # living quarters\n",
    "                                                        })\n",
    "data[\"SimplBsmtCond\"] = data.BsmtCond.replace({1 : 1, # bad\n",
    "                                                 2 : 1, 3 : 1, # average\n",
    "                                                 4 : 2, 5 : 2 # good\n",
    "                                                })\n",
    "data[\"SimplBsmtQual\"] = data.BsmtQual.replace({1 : 1, # bad\n",
    "                                                 2 : 1, 3 : 1, # average\n",
    "                                                 4 : 2, 5 : 2 # good\n",
    "                                                })\n",
    "data[\"SimplExterCond\"] = data.ExterCond.replace({1 : 1, # bad\n",
    "                                                   2 : 1, 3 : 1, # average\n",
    "                                                   4 : 2, 5 : 2 # good\n",
    "                                                  })\n",
    "data[\"SimplExterQual\"] = data.ExterQual.replace({1 : 1, # bad\n",
    "                                                   2 : 1, 3 : 1, # average\n",
    "                                                   4 : 2, 5 : 2 # good\n",
    "                                                  })\n",
    "\n",
    "# 2* Combinations of existing features\n",
    "# Overall quality of the house\n",
    "data[\"OverallGrade\"] = data[\"OverallQual\"] * data[\"OverallCond\"]\n",
    "# Overall quality of the garage\n",
    "data[\"GarageGrade\"] = data[\"GarageQual\"] * data[\"GarageCond\"]\n",
    "# Overall quality of the exterior\n",
    "data[\"ExterGrade\"] = data[\"ExterQual\"] * data[\"ExterCond\"]\n",
    "# Overall kitchen score\n",
    "data[\"KitchenScore\"] = data[\"KitchenAbvGr\"] * data[\"KitchenQual\"]\n",
    "# Overall fireplace score\n",
    "data[\"FireplaceScore\"] = data[\"Fireplaces\"] * data[\"FireplaceQu\"]\n",
    "# Overall garage score\n",
    "data[\"GarageScore\"] = data[\"GarageArea\"] * data[\"GarageQual\"]\n",
    "# Overall pool score\n",
    "data[\"PoolScore\"] = data[\"PoolArea\"] * data[\"PoolQC\"]\n",
    "# Simplified overall quality of the house\n",
    "data[\"SimplOverallGrade\"] = data[\"SimplOverallQual\"] * data[\"SimplOverallCond\"]\n",
    "# Simplified overall quality of the exterior\n",
    "data[\"SimplExterGrade\"] = data[\"SimplExterQual\"] * data[\"SimplExterCond\"]\n",
    "# Simplified overall pool score\n",
    "data[\"SimplPoolScore\"] = data[\"PoolArea\"] * data[\"SimplPoolQC\"]\n",
    "# Simplified overall garage score\n",
    "data[\"SimplGarageScore\"] = data[\"GarageArea\"] * data[\"SimplGarageQual\"]\n",
    "# Simplified overall fireplace score\n",
    "data[\"SimplFireplaceScore\"] = data[\"Fireplaces\"] * data[\"SimplFireplaceQu\"]\n",
    "# Simplified overall kitchen score\n",
    "data[\"SimplKitchenScore\"] = data[\"KitchenAbvGr\"] * data[\"SimplKitchenQual\"]\n",
    "# Total number of bathrooms\n",
    "data[\"TotalBath\"] = data[\"BsmtFullBath\"] + (0.5 * data[\"BsmtHalfBath\"]) + \\\n",
    "data[\"FullBath\"] + (0.5 * data[\"HalfBath\"])\n",
    "# Total SF for house (incl. basement)\n",
    "data[\"AllSF\"] = data[\"GrLivArea\"] + data[\"TotalBsmtSF\"]\n",
    "# Total SF for 1st + 2nd floors\n",
    "data[\"AllFlrsSF\"] = data[\"1stFlrSF\"] + data[\"2ndFlrSF\"]\n",
    "# Total SF for porch\n",
    "data[\"AllPorchSF\"] = data[\"OpenPorchSF\"] + data[\"EnclosedPorch\"] + \\\n",
    "data[\"3SsnPorch\"] + data[\"ScreenPorch\"]\n",
    "# Has masonry veneer or not\n",
    "data[\"HasMasVnr\"] = data.MasVnrType.replace({\"BrkCmn\" : 1, \"BrkFace\" : 1, \"CBlock\" : 1, \n",
    "                                               \"Stone\" : 1, \"None\" : 0})\n",
    "# House completed before sale or not\n",
    "data[\"BoughtOffPlan\"] = data.SaleCondition.replace({\"Abnorml\" : 0, \"Alloca\" : 0, \"AdjLand\" : 0, \n",
    "                                                      \"Family\" : 0, \"Normal\" : 0, \"Partial\" : 1})"
   ]
  },
  {
   "cell_type": "code",
   "execution_count": 20,
   "metadata": {},
   "outputs": [],
   "source": [
    "# Create new features\n",
    "# 3* Polynomials on the top 10 existing features\n",
    "data[\"OverallQual-s2\"] = data[\"OverallQual\"] ** 2\n",
    "data[\"OverallQual-s3\"] = data[\"OverallQual\"] ** 3\n",
    "data[\"OverallQual-Sq\"] = np.sqrt(data[\"OverallQual\"])\n",
    "data[\"AllSF-2\"] = data[\"AllSF\"] ** 2\n",
    "data[\"AllSF-3\"] = data[\"AllSF\"] ** 3\n",
    "data[\"AllSF-Sq\"] = np.sqrt(data[\"AllSF\"])\n",
    "data[\"AllFlrsSF-2\"] = data[\"AllFlrsSF\"] ** 2\n",
    "data[\"AllFlrsSF-3\"] = data[\"AllFlrsSF\"] ** 3\n",
    "data[\"AllFlrsSF-Sq\"] = np.sqrt(data[\"AllFlrsSF\"])\n",
    "data[\"GrLivArea-2\"] = data[\"GrLivArea\"] ** 2\n",
    "data[\"GrLivArea-3\"] = data[\"GrLivArea\"] ** 3\n",
    "data[\"GrLivArea-Sq\"] = np.sqrt(data[\"GrLivArea\"])\n",
    "data[\"SimplOverallQual-s2\"] = data[\"SimplOverallQual\"] ** 2\n",
    "data[\"SimplOverallQual-s3\"] = data[\"SimplOverallQual\"] ** 3\n",
    "data[\"SimplOverallQual-Sq\"] = np.sqrt(data[\"SimplOverallQual\"])\n",
    "data[\"ExterQual-2\"] = data[\"ExterQual\"] ** 2\n",
    "data[\"ExterQual-3\"] = data[\"ExterQual\"] ** 3\n",
    "data[\"ExterQual-Sq\"] = np.sqrt(data[\"ExterQual\"])\n",
    "data[\"GarageCars-2\"] = data[\"GarageCars\"] ** 2\n",
    "data[\"GarageCars-3\"] = data[\"GarageCars\"] ** 3\n",
    "data[\"GarageCars-Sq\"] = np.sqrt(data[\"GarageCars\"])\n",
    "data[\"TotalBath-2\"] = data[\"TotalBath\"] ** 2\n",
    "data[\"TotalBath-3\"] = data[\"TotalBath\"] ** 3\n",
    "data[\"TotalBath-Sq\"] = np.sqrt(data[\"TotalBath\"])\n",
    "data[\"KitchenQual-2\"] = data[\"KitchenQual\"] ** 2\n",
    "data[\"KitchenQual-3\"] = data[\"KitchenQual\"] ** 3\n",
    "data[\"KitchenQual-Sq\"] = np.sqrt(data[\"KitchenQual\"])\n",
    "data[\"GarageScore-2\"] = data[\"GarageScore\"] ** 2\n",
    "data[\"GarageScore-3\"] = data[\"GarageScore\"] ** 3\n",
    "data[\"GarageScore-Sq\"] = np.sqrt(data[\"GarageScore\"])"
   ]
  },
  {
   "cell_type": "code",
   "execution_count": 21,
   "metadata": {},
   "outputs": [
    {
     "name": "stdout",
     "output_type": "stream",
     "text": [
      "Numerical features : 116\n",
      "Categorical features : 27\n"
     ]
    }
   ],
   "source": [
    "# Differentiate numerical features (minus the target) and categorical features\n",
    "categorical_features = data.select_dtypes(include = [\"object\"]).columns\n",
    "numerical_features = data.select_dtypes(exclude = [\"object\"]).columns\n",
    "print(\"Numerical features : \" + str(len(numerical_features)))\n",
    "print(\"Categorical features : \" + str(len(categorical_features)))\n",
    "data_num = data[numerical_features]\n",
    "data_cat = data[categorical_features]"
   ]
  },
  {
   "cell_type": "code",
   "execution_count": 22,
   "metadata": {},
   "outputs": [
    {
     "name": "stdout",
     "output_type": "stream",
     "text": [
      "NAs for numerical features in data : 166\n",
      "Remaining NAs for numerical features in data : 0\n"
     ]
    }
   ],
   "source": [
    "# Handle remaining missing values for numerical features by using median as replacement\n",
    "print(\"NAs for numerical features in data : \" + str(data_num.isnull().values.sum()))\n",
    "data_num = data_num.fillna(data_num.median())\n",
    "print(\"Remaining NAs for numerical features in data : \" + str(data_num.isnull().values.sum()))"
   ]
  },
  {
   "cell_type": "code",
   "execution_count": 23,
   "metadata": {},
   "outputs": [
    {
     "name": "stdout",
     "output_type": "stream",
     "text": [
      "84 skewed numerical features to log transform\n"
     ]
    }
   ],
   "source": [
    "# Log transform of the skewed numerical features to lessen impact of outliers\n",
    "# Inspired by Alexandru Papiu's script : https://www.kaggle.com/apapiu/house-prices-advanced-regression-techniques/regularized-linear-models\n",
    "# As a general rule of thumb, a skewness with an absolute value > 0.5 is considered at least moderately skewed\n",
    "skewness = data_num.apply(lambda x: skew(x))\n",
    "skewness = skewness[abs(skewness) > 0.5]\n",
    "print(str(skewness.shape[0]) + \" skewed numerical features to log transform\")\n",
    "skewed_features = skewness.index\n",
    "data_num[skewed_features] = np.log1p(data_num[skewed_features])"
   ]
  },
  {
   "cell_type": "code",
   "execution_count": 24,
   "metadata": {},
   "outputs": [
    {
     "name": "stdout",
     "output_type": "stream",
     "text": [
      "NAs for categorical features in data : 8\n",
      "Remaining NAs for categorical features in data : 0\n"
     ]
    }
   ],
   "source": [
    "# Create dummy features for categorical values via one-hot encoding\n",
    "print(\"NAs for categorical features in data : \" + str(data_cat.isnull().values.sum()))\n",
    "data_cat = pd.get_dummies(data_cat)\n",
    "print(\"Remaining NAs for categorical features in data : \" + str(data_cat.isnull().values.sum()))"
   ]
  },
  {
   "cell_type": "code",
   "execution_count": 25,
   "metadata": {},
   "outputs": [
    {
     "name": "stdout",
     "output_type": "stream",
     "text": [
      "New number of features : 324\n",
      "X_train : (1020, 324)\n",
      "X_test : (438, 324)\n",
      "y_train : (1020,)\n",
      "y_test : (438,)\n"
     ]
    }
   ],
   "source": [
    "# Join categorical and numerical features\n",
    "data = pd.concat([data_num, data_cat], axis = 1)\n",
    "print(\"New number of features : \" + str(data.shape[1]))\n",
    "\n",
    "train = data[:mtrain]\n",
    "test= data[mtrain:]\n",
    "\n",
    "# Partition the dataset in train + validation sets\n",
    "X_train, X_test, y_train, y_test = train_test_split(train, y, test_size = 0.3, random_state = 0)\n",
    "print(\"X_train : \" + str(X_train.shape))\n",
    "print(\"X_test : \" + str(X_test.shape))\n",
    "print(\"y_train : \" + str(y_train.shape))\n",
    "print(\"y_test : \" + str(y_test.shape))"
   ]
  },
  {
   "cell_type": "code",
   "execution_count": 26,
   "metadata": {},
   "outputs": [
    {
     "name": "stderr",
     "output_type": "stream",
     "text": [
      "C:\\Users\\megha\\Anaconda3\\lib\\site-packages\\sklearn\\preprocessing\\data.py:645: DataConversionWarning: Data with input dtype int64, float64 were all converted to float64 by StandardScaler.\n",
      "  return self.partial_fit(X, y)\n",
      "C:\\Users\\megha\\Anaconda3\\lib\\site-packages\\sklearn\\base.py:464: DataConversionWarning: Data with input dtype int64, float64 were all converted to float64 by StandardScaler.\n",
      "  return self.fit(X, **fit_params).transform(X)\n",
      "C:\\Users\\megha\\Anaconda3\\lib\\site-packages\\pandas\\core\\indexing.py:543: SettingWithCopyWarning: \n",
      "A value is trying to be set on a copy of a slice from a DataFrame.\n",
      "Try using .loc[row_indexer,col_indexer] = value instead\n",
      "\n",
      "See the caveats in the documentation: http://pandas.pydata.org/pandas-docs/stable/indexing.html#indexing-view-versus-copy\n",
      "  self.obj[item] = s\n",
      "C:\\Users\\megha\\Anaconda3\\lib\\site-packages\\ipykernel_launcher.py:4: DataConversionWarning: Data with input dtype int64, float64 were all converted to float64 by StandardScaler.\n",
      "  after removing the cwd from sys.path.\n",
      "C:\\Users\\megha\\Anaconda3\\lib\\site-packages\\pandas\\core\\indexing.py:543: SettingWithCopyWarning: \n",
      "A value is trying to be set on a copy of a slice from a DataFrame.\n",
      "Try using .loc[row_indexer,col_indexer] = value instead\n",
      "\n",
      "See the caveats in the documentation: http://pandas.pydata.org/pandas-docs/stable/indexing.html#indexing-view-versus-copy\n",
      "  self.obj[item] = s\n"
     ]
    }
   ],
   "source": [
    "# Standardize numerical features\n",
    "stdSc = StandardScaler()\n",
    "X_train.loc[:, numerical_features] = stdSc.fit_transform(X_train.loc[:, numerical_features])\n",
    "X_test.loc[:, numerical_features] = stdSc.transform(X_test.loc[:, numerical_features])"
   ]
  },
  {
   "cell_type": "code",
   "execution_count": 27,
   "metadata": {},
   "outputs": [],
   "source": [
    "# Define error measure for official scoring : RMSE\n",
    "from sklearn.model_selection import cross_val_score\n",
    "scorer = make_scorer(mean_squared_error, greater_is_better = False)\n",
    "\n",
    "def rmse_cv_train(model):\n",
    "    rmse= np.sqrt(-cross_val_score(model, X_train, y_train, scoring = scorer, cv = 10))\n",
    "    return(rmse)\n",
    "\n",
    "def rmse_cv_test(model):\n",
    "    rmse= np.sqrt(-cross_val_score(model, X_test, y_test, scoring = scorer, cv = 10))\n",
    "    return(rmse)"
   ]
  },
  {
   "cell_type": "code",
   "execution_count": 28,
   "metadata": {},
   "outputs": [
    {
     "name": "stdout",
     "output_type": "stream",
     "text": [
      "RMSE on Training set : 0.2784634321598295\n",
      "RMSE on Test set : 0.34615633029779314\n"
     ]
    },
    {
     "data": {
      "image/png": "[encoded data removed]",
      "text/plain": [
       "<Figure size 432x288 with 1 Axes>"
      ]
     },
     "metadata": {
      "needs_background": "light"
     },
     "output_type": "display_data"
    },
    {
     "data": {
      "image/png": "[encoded data removed]",
      "text/plain": [
       "<Figure size 432x288 with 1 Axes>"
      ]
     },
     "metadata": {
      "needs_background": "light"
     },
     "output_type": "display_data"
    }
   ],
   "source": [
    "# Linear Regression\n",
    "lr = LinearRegression()\n",
    "lr.fit(X_train, y_train)\n",
    "\n",
    "# Look at predictions on training and validation set\n",
    "print(\"RMSE on Training set :\", rmse_cv_train(lr).mean())\n",
    "print(\"RMSE on Test set :\", rmse_cv_test(lr).mean())\n",
    "y_train_pred = lr.predict(X_train)\n",
    "y_test_pred = lr.predict(X_test)\n",
    "\n",
    "# Plot residuals\n",
    "plt.scatter(y_train_pred, y_train_pred - y_train, c = \"blue\", marker = \"s\", label = \"Training data\")\n",
    "plt.scatter(y_test_pred, y_test_pred - y_test, c = \"lightgreen\", marker = \"s\", label = \"Validation data\")\n",
    "plt.title(\"Linear regression\")\n",
    "plt.xlabel(\"Predicted values\")\n",
    "plt.ylabel(\"Residuals\")\n",
    "plt.legend(loc = \"upper left\")\n",
    "plt.hlines(y = 0, xmin = 10.5, xmax = 13.5, color = \"red\")\n",
    "plt.show()\n",
    "\n",
    "# Plot predictions\n",
    "plt.scatter(y_train_pred, y_train, c = \"blue\", marker = \"s\", label = \"Training data\")\n",
    "plt.scatter(y_test_pred, y_test, c = \"lightgreen\", marker = \"s\", label = \"Validation data\")\n",
    "plt.title(\"Linear regression\")\n",
    "plt.xlabel(\"Predicted values\")\n",
    "plt.ylabel(\"Real values\")\n",
    "plt.legend(loc = \"upper left\")\n",
    "plt.plot([10.5, 13.5], [10.5, 13.5], c = \"red\")\n",
    "plt.show()"
   ]
  },
  {
   "cell_type": "code",
   "execution_count": 29,
   "metadata": {},
   "outputs": [
    {
     "data": {
      "text/plain": [
       "Id\n",
       "465     11.728045\n",
       "1219    11.296025\n",
       "329     12.276070\n",
       "603     12.301387\n",
       "1407    11.798112\n",
       "986     11.736077\n",
       "1227    12.273736\n",
       "864     11.794345\n",
       "1400    11.831023\n",
       "659     11.487618\n",
       "620     12.628070\n",
       "419     11.744045\n",
       "901     11.608245\n",
       "1012    11.512935\n",
       "1375    12.429220\n",
       "518     12.487489\n",
       "1220    11.424105\n",
       "881     11.964007\n",
       "860     12.429220\n",
       "1325    11.898195\n",
       "1248    12.042971\n",
       "492     11.798112\n",
       "580     11.786770\n",
       "1448    12.388398\n",
       "1298    11.849405\n",
       "961     11.665655\n",
       "1177    11.691080\n",
       "132     12.404928\n",
       "16      11.790565\n",
       "944     11.870607\n",
       "          ...    \n",
       "1436    12.066816\n",
       "1203    11.669938\n",
       "100     11.767188\n",
       "852     12.278398\n",
       "449     11.691080\n",
       "757     12.264346\n",
       "978     12.205578\n",
       "116     12.078245\n",
       "779     11.877576\n",
       "73      12.128117\n",
       "847     12.269052\n",
       "539     11.970357\n",
       "851     11.786770\n",
       "175     12.122696\n",
       "88      12.010672\n",
       "553     12.450982\n",
       "707     12.618186\n",
       "315     12.089544\n",
       "1423    11.824087\n",
       "602     11.856522\n",
       "1096    12.080696\n",
       "601     12.524530\n",
       "278     11.856522\n",
       "1035    11.693170\n",
       "1386    11.740069\n",
       "765     12.506181\n",
       "837     11.941462\n",
       "1218    12.343471\n",
       "561     11.707678\n",
       "686     12.242891\n",
       "Name: SalePrice, Length: 1020, dtype: float64"
      ]
     },
     "execution_count": 29,
     "metadata": {},
     "output_type": "execute_result"
    }
   ],
   "source": [
    "y_train"
   ]
  },
  {
   "cell_type": "code",
   "execution_count": null,
   "metadata": {},
   "outputs": [],
   "source": []
  }
 ],
 "metadata": {
  "kernelspec": {
   "display_name": "Python 3",
   "language": "python",
   "name": "python3"
  },
  "language_info": {
   "codemirror_mode": {
    "name": "ipython",
    "version": 3
   },
   "file_extension": ".py",
   "mimetype": "text/x-python",
   "name": "python",
   "nbconvert_exporter": "python",
   "pygments_lexer": "ipython3",
   "version": "3.7.3"
  }
 },
 "nbformat": 4,
 "nbformat_minor": 2
}
